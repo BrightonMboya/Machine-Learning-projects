{
 "cells": [
  {
   "cell_type": "code",
   "execution_count": 1,
   "metadata": {},
   "outputs": [],
   "source": [
    "# importing the necessary libraries\n",
    "\n",
    "import pandas as pd\n",
    "from bs4 import BeautifulSoup \n",
    "import requests"
   ]
  },
  {
   "cell_type": "code",
   "execution_count": 166,
   "metadata": {},
   "outputs": [],
   "source": [
    "url = \"https://www.amazon.com/gp/bestsellers/books/ref=bsm_nav_pill_print/ref=s9_acss_bw_cg_bsmpill_1c1_w?pf_rd_m=ATVPDKIKX0DER&pf_rd_s=merchandised-search-1&pf_rd_r=JSFR919BB1373W4FETRV&pf_rd_t=101&pf_rd_p=65e3ce24-654c-43fb-a17b-86a554348820&pf_rd_i=16857165011\"\n",
    "\n",
    "# make a request to the web page and gets its HTML\n",
    "request = requests.get(url)\n",
    "\n",
    "# store the HTML page in 'soup', a BeautifulSoup object\n",
    "soup = BeautifulSoup(request.text, 'lxml')"
   ]
  },
  {
   "cell_type": "code",
   "execution_count": 167,
   "metadata": {},
   "outputs": [
    {
     "data": {
      "text/plain": [
       "<Response [200]>"
      ]
     },
     "execution_count": 167,
     "metadata": {},
     "output_type": "execute_result"
    }
   ],
   "source": [
    "# here we check the status of the request, expecting code 200 if the request is succesful\n",
    "request"
   ]
  },
  {
   "cell_type": "code",
   "execution_count": 168,
   "metadata": {},
   "outputs": [],
   "source": [
    "# here we store the book details by selecting the specified class, the class is found by inspecting the book section on the website\n",
    "amazonBooks = soup.select(\".zg-item-immersion\")"
   ]
  },
  {
   "cell_type": "code",
   "execution_count": 169,
   "metadata": {},
   "outputs": [],
   "source": [
    "# here we select all the titles and then we store them in a list\n",
    "\n",
    "bookTitles = []\n",
    "for title in amazonBooks:\n",
    "    # select the third div from authors\n",
    "    bookTitle = title.select('div')[3].get_text()\n",
    "    # then strip the '\\n' and the four spaces \n",
    "    bookTitle= bookTitle.strip('\\n')\n",
    "    bookTitle = bookTitle.strip('            ')\n",
    "    bookTitle = bookTitle.split('\\n')[0]\n",
    "    bookTitles.append(bookTitle)"
   ]
  },
  {
   "cell_type": "code",
   "execution_count": 170,
   "metadata": {},
   "outputs": [
    {
     "name": "stdout",
     "output_type": "stream",
     "text": [
      "50\n"
     ]
    }
   ],
   "source": [
    "# we want to know how many numbers of the books we have scrapped\n",
    "print(len(bookTitles))"
   ]
  },
  {
   "cell_type": "code",
   "execution_count": 171,
   "metadata": {},
   "outputs": [],
   "source": [
    "# here we select all the authors and then we store them in a list\n",
    "\n",
    "bookAuthors = []\n",
    "for author in amazonBooks:\n",
    "    # select the third div from authors\n",
    "    bookAuth = author.select('div')[4].get_text()\n",
    "    # then strip the '\\n' and the four spaces \n",
    "    bookAuth= bookAuth.strip('\\n')\n",
    "    bookAuth = bookAuth.strip('            ')\n",
    "    bookAuth = bookAuth.split('\\n')[0]\n",
    "    bookAuthors.append(bookAuth)"
   ]
  },
  {
   "cell_type": "code",
   "execution_count": 172,
   "metadata": {},
   "outputs": [
    {
     "name": "stdout",
     "output_type": "stream",
     "text": [
      "50\n"
     ]
    }
   ],
   "source": [
    "print(len(bookAuthors))"
   ]
  },
  {
   "cell_type": "code",
   "execution_count": 197,
   "metadata": {},
   "outputs": [],
   "source": [
    "bookPrices = []\n",
    "# here we use the soup object created earlier to scrap the prices\n",
    "\n",
    "prices = soup.find_all(class_=\"a-link-normal a-text-normal\")\n",
    "for price in prices:\n",
    "    bookPrice = price.get_text()\n",
    "    bookPrice = bookPrice.strip('$')\n",
    "    bookPrices.append(bookPrice)\n",
    "\n"
   ]
  },
  {
   "cell_type": "code",
   "execution_count": 237,
   "metadata": {},
   "outputs": [
    {
     "name": "stdout",
     "output_type": "stream",
     "text": [
      "50\n"
     ]
    }
   ],
   "source": [
    "print(len(bookPrices))"
   ]
  },
  {
   "cell_type": "code",
   "execution_count": 229,
   "metadata": {},
   "outputs": [],
   "source": [
    "ratings = []\n",
    "bookRates = soup.find_all(class_=\"a-icon-alt\")\n",
    "for item in bookRates:\n",
    "    bookRate = item.get_text()\n",
    "    # on the code below I am just getting the rate, so if the bookRate is '4.5 out of 5' i just return 4.5\n",
    "    formattedBookRate = bookRate[:3]\n",
    "    ratings.append(formattedBookRate)\n",
    "\n"
   ]
  },
  {
   "cell_type": "code",
   "execution_count": 230,
   "metadata": {},
   "outputs": [
    {
     "name": "stdout",
     "output_type": "stream",
     "text": [
      "50\n"
     ]
    }
   ],
   "source": [
    "print(len(ratings))"
   ]
  },
  {
   "cell_type": "code",
   "execution_count": 231,
   "metadata": {},
   "outputs": [
    {
     "data": {
      "text/html": [
       "<div>\n",
       "<style scoped>\n",
       "    .dataframe tbody tr th:only-of-type {\n",
       "        vertical-align: middle;\n",
       "    }\n",
       "\n",
       "    .dataframe tbody tr th {\n",
       "        vertical-align: top;\n",
       "    }\n",
       "\n",
       "    .dataframe thead th {\n",
       "        text-align: right;\n",
       "    }\n",
       "</style>\n",
       "<table border=\"1\" class=\"dataframe\">\n",
       "  <thead>\n",
       "    <tr style=\"text-align: right;\">\n",
       "      <th></th>\n",
       "      <th>Title</th>\n",
       "      <th>Author</th>\n",
       "      <th>Price ($)</th>\n",
       "      <th>Ratings</th>\n",
       "    </tr>\n",
       "  </thead>\n",
       "  <tbody>\n",
       "    <tr>\n",
       "      <th>0</th>\n",
       "      <td>Atlas of the Heart: Mapping Meaningful Connect...</td>\n",
       "      <td>Brené Brown</td>\n",
       "      <td>19.48</td>\n",
       "      <td>4.5</td>\n",
       "    </tr>\n",
       "    <tr>\n",
       "      <th>1</th>\n",
       "      <td>Laptop from Hell: Hunter Biden, Big Tech, and ...</td>\n",
       "      <td>Miranda Devine</td>\n",
       "      <td>28.99</td>\n",
       "      <td>4.7</td>\n",
       "    </tr>\n",
       "    <tr>\n",
       "      <th>2</th>\n",
       "      <td>Big Shot Diary of a Wimpy Kid Book 16</td>\n",
       "      <td>Jeff Kinney</td>\n",
       "      <td>7.49</td>\n",
       "      <td>4.8</td>\n",
       "    </tr>\n",
       "    <tr>\n",
       "      <th>3</th>\n",
       "      <td>The Real Anthony Fauci: Bill Gates, Big Pharma...</td>\n",
       "      <td>Robert F. Kennedy Jr.</td>\n",
       "      <td>20.88</td>\n",
       "      <td>4.9</td>\n",
       "    </tr>\n",
       "    <tr>\n",
       "      <th>4</th>\n",
       "      <td>Cat Kid Comic Club: Perspectives: A Graphic No...</td>\n",
       "      <td>Dav Pilkey</td>\n",
       "      <td>8.62</td>\n",
       "      <td>5.0</td>\n",
       "    </tr>\n",
       "  </tbody>\n",
       "</table>\n",
       "</div>"
      ],
      "text/plain": [
       "                                               Title                 Author  \\\n",
       "0  Atlas of the Heart: Mapping Meaningful Connect...            Brené Brown   \n",
       "1  Laptop from Hell: Hunter Biden, Big Tech, and ...         Miranda Devine   \n",
       "2              Big Shot Diary of a Wimpy Kid Book 16            Jeff Kinney   \n",
       "3  The Real Anthony Fauci: Bill Gates, Big Pharma...  Robert F. Kennedy Jr.   \n",
       "4  Cat Kid Comic Club: Perspectives: A Graphic No...             Dav Pilkey   \n",
       "\n",
       "  Price ($) Ratings  \n",
       "0     19.48     4.5  \n",
       "1     28.99     4.7  \n",
       "2      7.49     4.8  \n",
       "3     20.88     4.9  \n",
       "4      8.62     5.0  "
      ]
     },
     "execution_count": 231,
     "metadata": {},
     "output_type": "execute_result"
    }
   ],
   "source": [
    "# then he we create a pandas dataframe to do some data cleaning\n",
    "\n",
    "data = {'Title': bookTitles,\n",
    "        'Author': bookAuthors,\n",
    "        'Price ($)': bookPrices,\n",
    "        'Ratings': ratings}\n",
    "        \n",
    "\n",
    "books = pd.DataFrame(data)\n",
    "\n",
    "# then view the first five books\n",
    "books.head(5)"
   ]
  },
  {
   "cell_type": "code",
   "execution_count": 234,
   "metadata": {},
   "outputs": [],
   "source": [
    "# after creating the data frame I want to sort the dataframe based on the ratings\n",
    "\n",
    "bestSellingBooks= books.sort_values('Ratings', ascending=False)"
   ]
  },
  {
   "cell_type": "code",
   "execution_count": 236,
   "metadata": {},
   "outputs": [
    {
     "data": {
      "text/html": [
       "<div>\n",
       "<style scoped>\n",
       "    .dataframe tbody tr th:only-of-type {\n",
       "        vertical-align: middle;\n",
       "    }\n",
       "\n",
       "    .dataframe tbody tr th {\n",
       "        vertical-align: top;\n",
       "    }\n",
       "\n",
       "    .dataframe thead th {\n",
       "        text-align: right;\n",
       "    }\n",
       "</style>\n",
       "<table border=\"1\" class=\"dataframe\">\n",
       "  <thead>\n",
       "    <tr style=\"text-align: right;\">\n",
       "      <th></th>\n",
       "      <th>Title</th>\n",
       "      <th>Author</th>\n",
       "      <th>Price ($)</th>\n",
       "      <th>Ratings</th>\n",
       "    </tr>\n",
       "  </thead>\n",
       "  <tbody>\n",
       "    <tr>\n",
       "      <th>4</th>\n",
       "      <td>Cat Kid Comic Club: Perspectives: A Graphic No...</td>\n",
       "      <td>Dav Pilkey</td>\n",
       "      <td>8.62</td>\n",
       "      <td>5.0</td>\n",
       "    </tr>\n",
       "    <tr>\n",
       "      <th>36</th>\n",
       "      <td>Rush on the Radio: A Tribute from His Sidekick...</td>\n",
       "      <td>James Golden</td>\n",
       "      <td>21.85</td>\n",
       "      <td>5.0</td>\n",
       "    </tr>\n",
       "    <tr>\n",
       "      <th>11</th>\n",
       "      <td>Principles for Dealing with the Changing World...</td>\n",
       "      <td>Ray Dalio</td>\n",
       "      <td>24.99</td>\n",
       "      <td>5.0</td>\n",
       "    </tr>\n",
       "    <tr>\n",
       "      <th>21</th>\n",
       "      <td>Harry Potter Paperback Box Set (Books 1-7)</td>\n",
       "      <td>J. K. Rowling</td>\n",
       "      <td>39.99</td>\n",
       "      <td>4.9</td>\n",
       "    </tr>\n",
       "    <tr>\n",
       "      <th>43</th>\n",
       "      <td>Percy Jackson and the Olympians 5 Book Paperba...</td>\n",
       "      <td>Rick Riordan</td>\n",
       "      <td>18.80</td>\n",
       "      <td>4.9</td>\n",
       "    </tr>\n",
       "    <tr>\n",
       "      <th>3</th>\n",
       "      <td>The Real Anthony Fauci: Bill Gates, Big Pharma...</td>\n",
       "      <td>Robert F. Kennedy Jr.</td>\n",
       "      <td>20.88</td>\n",
       "      <td>4.9</td>\n",
       "    </tr>\n",
       "    <tr>\n",
       "      <th>44</th>\n",
       "      <td>How the Grinch Stole Christmas! (Classic Seuss)</td>\n",
       "      <td>Dr. Seuss</td>\n",
       "      <td>9.90</td>\n",
       "      <td>4.9</td>\n",
       "    </tr>\n",
       "    <tr>\n",
       "      <th>17</th>\n",
       "      <td>I Love You to the Moon and Back</td>\n",
       "      <td>Amelia Hepworth</td>\n",
       "      <td>4.28</td>\n",
       "      <td>4.9</td>\n",
       "    </tr>\n",
       "    <tr>\n",
       "      <th>46</th>\n",
       "      <td>American Marxism</td>\n",
       "      <td>Mark R. Levin</td>\n",
       "      <td>14.00</td>\n",
       "      <td>4.9</td>\n",
       "    </tr>\n",
       "    <tr>\n",
       "      <th>29</th>\n",
       "      <td>The Very Hungry Caterpillar</td>\n",
       "      <td>Eric Carle</td>\n",
       "      <td>5.06</td>\n",
       "      <td>4.9</td>\n",
       "    </tr>\n",
       "  </tbody>\n",
       "</table>\n",
       "</div>"
      ],
      "text/plain": [
       "                                                Title                 Author  \\\n",
       "4   Cat Kid Comic Club: Perspectives: A Graphic No...             Dav Pilkey   \n",
       "36  Rush on the Radio: A Tribute from His Sidekick...           James Golden   \n",
       "11  Principles for Dealing with the Changing World...              Ray Dalio   \n",
       "21         Harry Potter Paperback Box Set (Books 1-7)          J. K. Rowling   \n",
       "43  Percy Jackson and the Olympians 5 Book Paperba...           Rick Riordan   \n",
       "3   The Real Anthony Fauci: Bill Gates, Big Pharma...  Robert F. Kennedy Jr.   \n",
       "44    How the Grinch Stole Christmas! (Classic Seuss)              Dr. Seuss   \n",
       "17                    I Love You to the Moon and Back        Amelia Hepworth   \n",
       "46                                   American Marxism          Mark R. Levin   \n",
       "29                        The Very Hungry Caterpillar             Eric Carle   \n",
       "\n",
       "   Price ($) Ratings  \n",
       "4       8.62     5.0  \n",
       "36     21.85     5.0  \n",
       "11     24.99     5.0  \n",
       "21     39.99     4.9  \n",
       "43     18.80     4.9  \n",
       "3      20.88     4.9  \n",
       "44      9.90     4.9  \n",
       "17      4.28     4.9  \n",
       "46     14.00     4.9  \n",
       "29      5.06     4.9  "
      ]
     },
     "execution_count": 236,
     "metadata": {},
     "output_type": "execute_result"
    }
   ],
   "source": [
    "# so after sorting I am returning the top ten books by just using pandas.head() function\n",
    "bestSellingBooks.head(10)"
   ]
  },
  {
   "cell_type": "code",
   "execution_count": null,
   "metadata": {},
   "outputs": [],
   "source": []
  }
 ],
 "metadata": {
  "interpreter": {
   "hash": "cde3ec76907d9d896e943ab917179e131da7cf4b500ea9b151f784767f25e879"
  },
  "kernelspec": {
   "display_name": "Python 3.8.12 64-bit ('Tony_ml': conda)",
   "name": "python3"
  },
  "language_info": {
   "codemirror_mode": {
    "name": "ipython",
    "version": 3
   },
   "file_extension": ".py",
   "mimetype": "text/x-python",
   "name": "python",
   "nbconvert_exporter": "python",
   "pygments_lexer": "ipython3",
   "version": "3.8.12"
  },
  "orig_nbformat": 4
 },
 "nbformat": 4,
 "nbformat_minor": 2
}
